{
 "cells": [
  {
   "cell_type": "code",
   "execution_count": 2,
   "metadata": {},
   "outputs": [
    {
     "name": "stdout",
     "output_type": "stream",
     "text": [
      "Merged JSON file created: D:/Workspace/EducationQ_Benchmark/src/data/output/EduQ-Bench_Student-llama31-70b-instruct/GPQA/data/MMLU-Pro-stratified/Student-llama31-70b-instruct/processed_results/merged_results.json\n"
     ]
    }
   ],
   "source": [
    "import os\n",
    "import json\n",
    "from collections import defaultdict\n",
    "\n",
    "def merge_json_files(directory_path, output_file):\n",
    "    merged_data = defaultdict(dict)\n",
    "\n",
    "    # 遍历目录中的所有文件\n",
    "    for filename in os.listdir(directory_path):\n",
    "        if filename.endswith('.json'):\n",
    "            file_path = os.path.join(directory_path, filename)\n",
    "            \n",
    "            # 读取JSON文件\n",
    "            with open(file_path, 'r', encoding='utf-8') as file:\n",
    "                try:\n",
    "                    data = json.load(file)\n",
    "                    \n",
    "                    # 合并数据\n",
    "                    for teacher, teacher_data in data.items():\n",
    "                        if teacher not in merged_data:\n",
    "                            merged_data[teacher] = teacher_data\n",
    "                        else:\n",
    "                            for student, student_data in teacher_data.items():\n",
    "                                if student not in merged_data[teacher]:\n",
    "                                    merged_data[teacher][student] = student_data\n",
    "                                else:\n",
    "                                    merged_data[teacher][student].update(student_data)\n",
    "                except json.JSONDecodeError:\n",
    "                    print(f\"Error decoding JSON from file: {filename}\")\n",
    "\n",
    "    # 将合并后的数据写入新的JSON文件\n",
    "    with open(output_file, 'w', encoding='utf-8') as outfile:\n",
    "        json.dump(merged_data, outfile, indent=2, ensure_ascii=False)\n",
    "\n",
    "    print(f\"Merged JSON file created: {output_file}\")\n",
    "\n",
    "# 使用示例\n",
    "directory_path = 'D:/Workspace/EducationQ_Benchmark/src/data/output/EduQ-Bench_Student-llama31-70b-instruct/GPQA/data/MMLU-Pro-stratified/Student-llama31-70b-instruct/'  # 替换为你的JSON文件所在的目录路径\n",
    "output_file = directory_path + 'processed_results/merged_results.json'  # 输出文件名\n",
    "\n",
    "merge_json_files(directory_path, output_file)"
   ]
  }
 ],
 "metadata": {
  "kernelspec": {
   "display_name": "teacher",
   "language": "python",
   "name": "python3"
  },
  "language_info": {
   "codemirror_mode": {
    "name": "ipython",
    "version": 3
   },
   "file_extension": ".py",
   "mimetype": "text/x-python",
   "name": "python",
   "nbconvert_exporter": "python",
   "pygments_lexer": "ipython3",
   "version": "3.8.19"
  }
 },
 "nbformat": 4,
 "nbformat_minor": 2
}
