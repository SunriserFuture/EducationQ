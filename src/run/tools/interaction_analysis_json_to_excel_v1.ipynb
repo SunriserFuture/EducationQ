{
 "cells": [
  {
   "cell_type": "code",
   "execution_count": 5,
   "metadata": {},
   "outputs": [
    {
     "name": "stdout",
     "output_type": "stream",
     "text": [
      "Excel file has been created: D:/Workspace/EducationQ_Benchmark/src/data/output/EduQ-Bench_Student-llama31-70b-instruct/MMLU-Pro/interaction_evaluation_results_1.0.0_20241012_010436.xlsx\n"
     ]
    },
    {
     "ename": "",
     "evalue": "",
     "output_type": "error",
     "traceback": [
      "\u001b[1;31mThe Kernel crashed while executing code in the current cell or a previous cell. \n",
      "\u001b[1;31mPlease review the code in the cell(s) to identify a possible cause of the failure. \n",
      "\u001b[1;31mClick <a href='https://aka.ms/vscodeJupyterKernelCrash'>here</a> for more info. \n",
      "\u001b[1;31mView Jupyter <a href='command:jupyter.viewOutput'>log</a> for further details."
     ]
    }
   ],
   "source": [
    "import json\n",
    "import pandas as pd\n",
    "\n",
    "def json_to_excel(json_file_path, excel_file_path):\n",
    "    # 读取JSON文件\n",
    "    with open(json_file_path, 'r', encoding='utf-8') as file:\n",
    "        data = json.load(file)\n",
    "\n",
    "    # 准备存储所有行的列表\n",
    "    rows = []\n",
    "\n",
    "    # 遍历JSON数据\n",
    "    for question_id, teacher_pairs in data.items():\n",
    "        for teacher_pair, evaluation in teacher_pairs.items():\n",
    "            teacher_a_name, teacher_b_name = teacher_pair.split('_vs_')\n",
    "\n",
    "                        # 获取verdict信息\n",
    "            verdict_analysis = evaluation['verdict']['analysis']\n",
    "            verdict_choice = evaluation['verdict']['choice']\n",
    "            \n",
    "            \n",
    "            # 为每个教师创建一行\n",
    "            for teacher_name in [teacher_a_name, teacher_b_name]:\n",
    "                teacher_data = evaluation[teacher_name]\n",
    "                row = {\n",
    "                    'question_id': question_id,\n",
    "                    'teacher_pair': teacher_pair,\n",
    "                    'teacher_name': teacher_name\n",
    "                }\n",
    "                \n",
    "                # 添加每个维度的分析和分数\n",
    "                dimensions = [\n",
    "                    'Assessment Effectiveness',\n",
    "                    'Questioning Effectiveness',\n",
    "                    'Feedback Effectiveness',\n",
    "                    'Instructional Adaptation Effectiveness',\n",
    "                    'Learning Objective Achievement Effectiveness'\n",
    "                ]\n",
    "                \n",
    "                for dimension in dimensions:\n",
    "                    row[f'{dimension.lower().replace(\" \", \"_\")}_analysis'] = teacher_data[dimension]['analysis']\n",
    "                    row[f'{dimension.lower().replace(\" \", \"_\")}_score'] = teacher_data[dimension]['score']\n",
    "                \n",
    "                # 为两个老师都添加verdict信息\n",
    "                row['verdict_analysis'] = verdict_analysis\n",
    "                row['verdict_choice'] = verdict_choice\n",
    "                \n",
    "                rows.append(row)\n",
    "\n",
    "    # 创建DataFrame\n",
    "    df = pd.DataFrame(rows)\n",
    "\n",
    "    # 保存为Excel文件\n",
    "    df.to_excel(excel_file_path, index=False)\n",
    "    print(f\"Excel file has been created: {excel_file_path}\")\n",
    "\n",
    "# 使用函数\n",
    "json_file_path = 'D:/Workspace/EducationQ_Benchmark/src/data/output/EduQ-Bench_Student-llama31-70b-instruct/MMLU-Pro/interaction_evaluation_results_1.0.0_20241012_010436.json'\n",
    "excel_file_path = 'D:/Workspace/EducationQ_Benchmark/src/data/output/EduQ-Bench_Student-llama31-70b-instruct/MMLU-Pro/interaction_evaluation_results_1.0.0_20241012_010436.xlsx'\n",
    "json_to_excel(json_file_path, excel_file_path)"
   ]
  }
 ],
 "metadata": {
  "kernelspec": {
   "display_name": "teacher",
   "language": "python",
   "name": "python3"
  },
  "language_info": {
   "codemirror_mode": {
    "name": "ipython",
    "version": 3
   },
   "file_extension": ".py",
   "mimetype": "text/x-python",
   "name": "python",
   "nbconvert_exporter": "python",
   "pygments_lexer": "ipython3",
   "version": "3.8.19"
  }
 },
 "nbformat": 4,
 "nbformat_minor": 2
}
